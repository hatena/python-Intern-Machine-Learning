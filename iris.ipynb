{
 "cells": [
  {
   "cell_type": "code",
   "execution_count": null,
   "metadata": {},
   "outputs": [],
   "source": [
    "# その場でグラフを描画\n",
    "%matplotlib inline"
   ]
  },
  {
   "cell_type": "code",
   "execution_count": null,
   "metadata": {},
   "outputs": [],
   "source": [
    "# モジュールを実行の都度リロード\n",
    "%load_ext autoreload\n",
    "%autoreload 2"
   ]
  },
  {
   "cell_type": "code",
   "execution_count": null,
   "metadata": {},
   "outputs": [],
   "source": [
    "# intern_mlモジュールを使うため、パスにカレントディレクトリを追加する\n",
    "import os\n",
    "import sys\n",
    "module_path = os.path.abspath('.')\n",
    "if module_path not in sys.path:\n",
    "    sys.path.append(module_path)"
   ]
  },
  {
   "cell_type": "code",
   "execution_count": null,
   "metadata": {},
   "outputs": [],
   "source": [
    "from intern_ml.data import Data, Feature, Label\n",
    "\n",
    "# 正例のラベル\n",
    "TARGET_LABEL = 'Iris-setosa'\n",
    "\n",
    "def load_iris_dataset():\n",
    "    dataset = []\n",
    "    with open('data/iris.data', 'r') as fh:\n",
    "        for line in fh:\n",
    "            row = line.rstrip().split(\",\")\n",
    "            features = [Feature(i, float(row[i])) for i in range(4)]\n",
    "            dataset.append(Data(features, Label.POSITIVE if row[4] == TARGET_LABEL else Label.NEGATIVE))\n",
    "    return dataset"
   ]
  },
  {
   "cell_type": "code",
   "execution_count": null,
   "metadata": {},
   "outputs": [],
   "source": [
    "iris_dataset = load_iris_dataset()\n",
    "\n",
    "import random\n",
    "\n",
    "# シャッフル結果を固定するためにシードを指定する\n",
    "random.seed(1)\n",
    "random.shuffle(iris_dataset)\n",
    "\n",
    "train = iris_dataset[:100]\n",
    "test = iris_dataset[100:]"
   ]
  },
  {
   "cell_type": "code",
   "execution_count": null,
   "metadata": {},
   "outputs": [],
   "source": [
    "def evaluate_model(model, dataset):\n",
    "    # ここはモデルの評価結果を返すように変更する\n",
    "    return random.random()"
   ]
  },
  {
   "cell_type": "code",
   "execution_count": null,
   "metadata": {},
   "outputs": [],
   "source": [
    "from intern_ml.perceptron import Perceptron\n",
    "\n",
    "# 学習曲線を書く\n",
    "\n",
    "n_train = range(0, len(train), 10)\n",
    "train_scores = []\n",
    "test_scores = []\n",
    "\n",
    "for n in n_train:\n",
    "    train_sub = train[:n]\n",
    "    model = Perceptron(4)\n",
    "    model.train(train_sub)\n",
    "    train_scores.append(evaluate_model(model, train_sub))\n",
    "    test_scores.append(evaluate_model(model, test))\n",
    "\n",
    "import matplotlib.pyplot as plt\n",
    "\n",
    "plt.plot(n_train, train_scores, label='train')\n",
    "plt.plot(n_train, test_scores, label='test')\n",
    "plt.legend()\n",
    "plt.show()"
   ]
  },
  {
   "cell_type": "code",
   "execution_count": null,
   "metadata": {},
   "outputs": [],
   "source": []
  }
 ],
 "metadata": {
  "kernelspec": {
   "display_name": "Python 3",
   "language": "python",
   "name": "python3"
  },
  "language_info": {
   "codemirror_mode": {
    "name": "ipython",
    "version": 3
   },
   "file_extension": ".py",
   "mimetype": "text/x-python",
   "name": "python",
   "nbconvert_exporter": "python",
   "pygments_lexer": "ipython3",
   "version": "3.7.0"
  }
 },
 "nbformat": 4,
 "nbformat_minor": 2
}
